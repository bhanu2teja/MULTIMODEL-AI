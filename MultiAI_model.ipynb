{
  "nbformat": 4,
  "nbformat_minor": 0,
  "metadata": {
    "colab": {
      "provenance": []
    },
    "kernelspec": {
      "name": "python3",
      "display_name": "Python 3"
    },
    "language_info": {
      "name": "python"
    }
  },
  "cells": [
    {
      "cell_type": "markdown",
      "source": [
        "**Install libraries for working with large language models (LLMs).t**"
      ],
      "metadata": {
        "id": "jtQLxhMy6unk"
      }
    },
    {
      "cell_type": "code",
      "execution_count": null,
      "metadata": {
        "colab": {
          "base_uri": "https://localhost:8080/"
        },
        "id": "POAumkwU6Key",
        "outputId": "622c2fa7-6f3c-4300-8f78-4422f0092915",
        "collapsed": true
      },
      "outputs": [
        {
          "output_type": "stream",
          "name": "stdout",
          "text": [
            "\u001b[2K     \u001b[90m━━━━━━━━━━━━━━━━━━━━━━━━━━━━━━━━━━━━━━━━\u001b[0m \u001b[32m43.5/43.5 kB\u001b[0m \u001b[31m1.3 MB/s\u001b[0m eta \u001b[36m0:00:00\u001b[0m\n",
            "\u001b[2K   \u001b[90m━━━━━━━━━━━━━━━━━━━━━━━━━━━━━━━━━━━━━━━━\u001b[0m \u001b[32m2.5/2.5 MB\u001b[0m \u001b[31m21.0 MB/s\u001b[0m eta \u001b[36m0:00:00\u001b[0m\n",
            "\u001b[2K   \u001b[90m━━━━━━━━━━━━━━━━━━━━━━━━━━━━━━━━━━━━━━━━\u001b[0m \u001b[32m138.0/138.0 kB\u001b[0m \u001b[31m7.5 MB/s\u001b[0m eta \u001b[36m0:00:00\u001b[0m\n",
            "\u001b[2K   \u001b[90m━━━━━━━━━━━━━━━━━━━━━━━━━━━━━━━━━━━━━━━━\u001b[0m \u001b[32m88.6/88.6 kB\u001b[0m \u001b[31m5.1 MB/s\u001b[0m eta \u001b[36m0:00:00\u001b[0m\n",
            "\u001b[2K   \u001b[90m━━━━━━━━━━━━━━━━━━━━━━━━━━━━━━━━━━━━━━━━\u001b[0m \u001b[32m124.9/124.9 kB\u001b[0m \u001b[31m5.9 MB/s\u001b[0m eta \u001b[36m0:00:00\u001b[0m\n",
            "\u001b[2K   \u001b[90m━━━━━━━━━━━━━━━━━━━━━━━━━━━━━━━━━━━━━━━━\u001b[0m \u001b[32m41.9/41.9 kB\u001b[0m \u001b[31m1.6 MB/s\u001b[0m eta \u001b[36m0:00:00\u001b[0m\n",
            "\u001b[2K   \u001b[90m━━━━━━━━━━━━━━━━━━━━━━━━━━━━━━━━━━━━━━━━\u001b[0m \u001b[32m47.1/47.1 kB\u001b[0m \u001b[31m2.6 MB/s\u001b[0m eta \u001b[36m0:00:00\u001b[0m\n",
            "\u001b[2K   \u001b[90m━━━━━━━━━━━━━━━━━━━━━━━━━━━━━━━━━━━━━━━━\u001b[0m \u001b[32m194.8/194.8 kB\u001b[0m \u001b[31m8.2 MB/s\u001b[0m eta \u001b[36m0:00:00\u001b[0m\n",
            "\u001b[2K   \u001b[90m━━━━━━━━━━━━━━━━━━━━━━━━━━━━━━━━━━━━━━━━\u001b[0m \u001b[32m50.9/50.9 kB\u001b[0m \u001b[31m2.2 MB/s\u001b[0m eta \u001b[36m0:00:00\u001b[0m\n",
            "\u001b[2K   \u001b[90m━━━━━━━━━━━━━━━━━━━━━━━━━━━━━━━━━━━━━━━━\u001b[0m \u001b[32m223.6/223.6 kB\u001b[0m \u001b[31m5.8 MB/s\u001b[0m eta \u001b[36m0:00:00\u001b[0m\n",
            "\u001b[?25h"
          ]
        }
      ],
      "source": [
        "!pip install -q langchain langchain_groq langchain_community langgraph rizaio"
      ]
    },
    {
      "cell_type": "markdown",
      "source": [
        "**Retrieve API key from Colab environment**"
      ],
      "metadata": {
        "id": "l4dYG2Jl604M"
      }
    },
    {
      "cell_type": "code",
      "source": [
        "import os\n",
        "from google.colab import userdata\n",
        "\n",
        "# Retrieve the Groq API key from Colab's stored user data and assign it to a variable\n",
        "groq_api_key = userdata.get('groq_api_key')\n",
        "os.environ[\"RIZA_API_KEY\"] = userdata.get('RIZA_API_KEY')\n",
        "os.environ[\"TAVILY_API_KEY\"] = userdata.get('TAVILY_API_KEY')"
      ],
      "metadata": {
        "id": "hjVea7tx6m2l"
      },
      "execution_count": null,
      "outputs": []
    },
    {
      "cell_type": "code",
      "source": [
        "from typing import Annotated, Sequence, List, Literal # Typing utilities for type hints and better code readability\n",
        "from pydantic import BaseModel, Field  # `BaseModel` is the base class used to create data models, `Field` is used to provide additional metadata\n",
        "from langchain_core.messages import HumanMessage # Human message classes for handling human messages in LangChain\n",
        "from langchain_community.tools.tavily_search import TavilySearchResults # TavilySearchResults for handling external search results\n",
        "from langchain_community.tools.riza.command import ExecPython # Riza's ExecPython for executing Python code dynamically\n",
        "from langchain_groq import ChatGroq # Interface for using the ChatGroq platform for advanced language model capabilities\n",
        "from langgraph.types import Command # LangGraph types for extending commands and functionalities\n",
        "from langgraph.graph import StateGraph, START, END, MessagesState # Graph-related utilities for building workflows and state machines\n",
        "from langgraph.prebuilt import create_react_agent # Prebuilt tools and agents for streamlined development\n",
        "from pprint import pprint # Utilities for debugging and displaying complex data structures in an organized way\n",
        "from IPython.display import Image, display # Import for displaying images in a Jupyter Notebook"
      ],
      "metadata": {
        "id": "a5w_gOTwidmo"
      },
      "execution_count": null,
      "outputs": []
    },
    {
      "cell_type": "code",
      "source": [
        "# Initialize a ChatGroq object with a specified API key and model name.\n",
        "llm = ChatGroq(groq_api_key=groq_api_key, model_name=\"llama-3.3-70b-versatile\")\n",
        "\n",
        "# Output the ChatGroq object to view its details\n",
        "llm"
      ],
      "metadata": {
        "colab": {
          "base_uri": "https://localhost:8080/"
        },
        "id": "qDoD7YfPifZv",
        "outputId": "3120cd33-60af-42ca-e722-e91fa546404e"
      },
      "execution_count": null,
      "outputs": [
        {
          "output_type": "execute_result",
          "data": {
            "text/plain": [
              "ChatGroq(client=<groq.resources.chat.completions.Completions object at 0x78f134131f10>, async_client=<groq.resources.chat.completions.AsyncCompletions object at 0x78f134138090>, model_name='llama-3.3-70b-versatile', model_kwargs={}, groq_api_key=SecretStr('**********'))"
            ]
          },
          "metadata": {},
          "execution_count": 25
        }
      ]
    },
    {
      "cell_type": "code",
      "source": [
        "llm.invoke(\"Hi\")"
      ],
      "metadata": {
        "colab": {
          "base_uri": "https://localhost:8080/"
        },
        "id": "UcrpqbPEilPA",
        "outputId": "4ed7d6c2-e848-4877-de5d-fff18c5382c5"
      },
      "execution_count": null,
      "outputs": [
        {
          "output_type": "execute_result",
          "data": {
            "text/plain": [
              "AIMessage(content=\"It's nice to meet you. Is there something I can help you with or would you like to chat?\", additional_kwargs={}, response_metadata={'token_usage': {'completion_tokens': 23, 'prompt_tokens': 36, 'total_tokens': 59, 'completion_time': 0.083636364, 'prompt_time': 0.001922456, 'queue_time': 0.244378492, 'total_time': 0.08555882}, 'model_name': 'llama-3.3-70b-versatile', 'system_fingerprint': 'fp_41c250edc7', 'finish_reason': 'stop', 'logprobs': None}, id='run-9555c1da-abe5-4cc0-837c-c0316e75ac39-0', usage_metadata={'input_tokens': 36, 'output_tokens': 23, 'total_tokens': 59})"
            ]
          },
          "metadata": {},
          "execution_count": 26
        }
      ]
    },
    {
      "cell_type": "code",
      "source": [
        "print(llm.invoke(\"What is the capital of India?\"))"
      ],
      "metadata": {
        "colab": {
          "base_uri": "https://localhost:8080/"
        },
        "id": "ZxLK2uO7iorW",
        "outputId": "bf034243-e12a-4d93-f4e1-9cfb7dad16d8"
      },
      "execution_count": null,
      "outputs": [
        {
          "output_type": "stream",
          "name": "stdout",
          "text": [
            "content='The capital of India is New Delhi.' additional_kwargs={} response_metadata={'token_usage': {'completion_tokens': 9, 'prompt_tokens': 42, 'total_tokens': 51, 'completion_time': 0.032727273, 'prompt_time': 0.001958101, 'queue_time': 0.24335050500000002, 'total_time': 0.034685374}, 'model_name': 'llama-3.3-70b-versatile', 'system_fingerprint': 'fp_34555b7c20', 'finish_reason': 'stop', 'logprobs': None} id='run-84cd435c-3132-477c-ad74-33737d13c964-0' usage_metadata={'input_tokens': 42, 'output_tokens': 9, 'total_tokens': 51}\n"
          ]
        }
      ]
    },
    {
      "cell_type": "code",
      "source": [
        "print(llm.invoke(\"How are you?\"))"
      ],
      "metadata": {
        "colab": {
          "base_uri": "https://localhost:8080/"
        },
        "id": "p9iF6hYvi45R",
        "outputId": "3b85c0f5-46e9-47a6-ea4c-c74e25724bc8"
      },
      "execution_count": null,
      "outputs": [
        {
          "output_type": "stream",
          "name": "stdout",
          "text": [
            "content=\"I'm just a language model, so I don't have feelings or physical sensations like humans do. I'm here to help answer your questions and provide information, and I'm ready to assist you 24/7. How can I help you today?\" additional_kwargs={} response_metadata={'token_usage': {'completion_tokens': 52, 'prompt_tokens': 39, 'total_tokens': 91, 'completion_time': 0.189090909, 'prompt_time': 0.001880656, 'queue_time': 0.24439012699999998, 'total_time': 0.190971565}, 'model_name': 'llama-3.3-70b-versatile', 'system_fingerprint': 'fp_c4760ee73b', 'finish_reason': 'stop', 'logprobs': None} id='run-568d5bed-4a3b-49a7-8424-90283cd3d1cf-0' usage_metadata={'input_tokens': 39, 'output_tokens': 52, 'total_tokens': 91}\n"
          ]
        }
      ]
    },
    {
      "cell_type": "code",
      "source": [
        "# Initialize the TavilySearchResults tool with a specified maximum number of results.\n",
        "tool_tavily = TavilySearchResults(max_results=2)\n",
        "\n",
        "# Initialize the ExecPython tool, which allows executing Python code.\n",
        "tool_code_interpreter = ExecPython()\n",
        "\n",
        "# Create a list of tools, combining the TavilySearchResults tool and the ExecPython tool.\n",
        "tools = [tool_tavily, tool_code_interpreter]"
      ],
      "metadata": {
        "id": "TXJ0KUiki-Mn"
      },
      "execution_count": null,
      "outputs": []
    },
    {
      "cell_type": "code",
      "source": [
        "system_prompt = ('''You are a workflow supervisor managing a team of three agents: Prompt Enhancer, Researcher, and Coder. Your role is to direct the flow of tasks by selecting the next agent based on the current stage of the workflow. For each task, provide a clear rationale for your choice, ensuring that the workflow progresses logically, efficiently, and toward a timely completion.\n",
        "\n",
        "**Team Members**:\n",
        "1. Enhancer: Use prompt enhancer as the first preference, to Focuse on clarifying vague or incomplete user queries, improving their quality, and ensuring they are well-defined before further processing.\n",
        "2. Researcher: Specializes in gathering information.\n",
        "3. Coder: Handles technical tasks related to caluclation, coding, data analysis, and problem-solving, ensuring the correct implementation of solutions.\n",
        "\n",
        "**Responsibilities**:\n",
        "1. Carefully review each user request and evaluate agent responses for relevance and completeness.\n",
        "2. Continuously route tasks to the next best-suited agent if needed.\n",
        "3. Ensure the workflow progresses efficiently, without terminating until the task is fully resolved.\n",
        "\n",
        "Your goal is to maximize accuracy and effectiveness by leveraging each agent’s unique expertise while ensuring smooth workflow execution.\n",
        "''')\n",
        "\n",
        "# Define a Supervisor class to specify the next worker in the pipeline\n",
        "class Supervisor(BaseModel):\n",
        "    next: Literal[\"enhancer\", \"researcher\", \"coder\"] = Field(\n",
        "        description=\"Specifies the next worker in the pipeline: \"\n",
        "                    \"'enhancer' for enhancing the user prompt if it is unclear or vague, \"\n",
        "                    \"'researcher' for additional information gathering, \"\n",
        "                    \"'coder' for solving technical or code-related problems.\"\n",
        "    )\n",
        "    reason: str = Field(\n",
        "        description=\"The reason for the decision, providing context on why a particular worker was chosen.\"\n",
        "    )\n",
        "# Define the supervisor node function to handle state transitions\n",
        "def supervisor_node(state: MessagesState) -> Command[Literal[\"enhancer\", \"researcher\", \"coder\"]]:\n",
        "    \"\"\"\n",
        "    Supervisor node for routing tasks based on the current state and LLM response.\n",
        "    Args:\n",
        "        state (MessagesState): The current state containing message history.\n",
        "    Returns:\n",
        "        Command: A command indicating the next state or action.\n",
        "    \"\"\"\n",
        "    # Prepare messages by appending the system prompt to the message history\n",
        "    messages = [\n",
        "        {\"role\": \"system\", \"content\": system_prompt},  # System-level instructions or context\n",
        "    ] + state[\"messages\"]  # Append previous messages from the state\n",
        "\n",
        "    # Invoke the language model with structured output using the Router schema\n",
        "    response = llm.with_structured_output(Supervisor).invoke(messages)\n",
        "    # Extract the 'next' routing decision and the 'reason' from the response\n",
        "    goto = response.next\n",
        "    reason = response.reason\n",
        "    # Debug logging to trace responses and transitions\n",
        "    print(f\"Current Node:  Supervisor -> Goto: {goto}\")\n",
        "    # print(f\"Response: {response}\")\n",
        "    return Command(\n",
        "        update={\n",
        "            \"messages\": [\n",
        "                # Append the reason (supervisor's response) to the state, tagged with \"supervisor\"\n",
        "                HumanMessage(content=reason, name=\"supervisor\")\n",
        "            ]\n",
        "        },\n",
        "        goto=goto,  # Specify the next node in the workflow\n",
        "    )"
      ],
      "metadata": {
        "id": "-oOBfsqNmi4B"
      },
      "execution_count": null,
      "outputs": []
    },
    {
      "cell_type": "code",
      "source": [
        "def enhancer_node(state: MessagesState) -> Command[Literal[\"supervisor\"]]:\n",
        "    \"\"\"\n",
        "    Enhancer node for refining and clarifying user inputs.\n",
        "\n",
        "    Args:\n",
        "        state (MessagesState): The current state containing the conversation history.\n",
        "\n",
        "    Returns:\n",
        "        Command: A command to update the state with the enhanced query and route back to the supervisor.\n",
        "    \"\"\"\n",
        "    # Define the system prompt to guide the LLM in query enhancement\n",
        "    system_prompt = (\n",
        "        \"You are an advanced query enhancer. Your task is to:\\n\"\n",
        "        \"Don't ask anything to the user, select the most appropriate prompt\"\n",
        "        \"1. Clarify and refine user inputs.\\n\"\n",
        "        \"2. Identify any ambiguities in the query.\\n\"\n",
        "        \"3. Generate a more precise and actionable version of the original request.\\n\"\n",
        "    )\n",
        "\n",
        "    # Combine the system prompt with the current conversation messages\n",
        "    messages = [\n",
        "        {\"role\": \"system\", \"content\": system_prompt},  # Provide context for the LLM\n",
        "    ] + state[\"messages\"]  # Include the conversation history for context\n",
        "\n",
        "    # Use the LLM to process the messages and generate an enhanced query\n",
        "    enhanced_query = llm.invoke(messages)\n",
        "    print(f\"Current Node: Prompt Enhancer -> Goto: Supervisor\")\n",
        "    # print(f\"Response: {enhanced_query}\")\n",
        "    # Return a command to update the state with the enhanced query and route back to the supervisor\n",
        "    return Command(\n",
        "        update={\n",
        "            \"messages\": [  # Append the enhanced query to the message history\n",
        "                HumanMessage(\n",
        "                    content=enhanced_query.content,  # Content of the enhanced query\n",
        "                    name=\"enhancer\"  # Name of the node processing this message\n",
        "                )\n",
        "            ]\n",
        "        },\n",
        "        goto=\"supervisor\",  # Route to the supervisor for further processing\n",
        "    )"
      ],
      "metadata": {
        "id": "ardDZ9nanvnu"
      },
      "execution_count": null,
      "outputs": []
    },
    {
      "cell_type": "code",
      "source": [
        "def research_node(state: MessagesState) -> Command[Literal[\"validator\"]]:\n",
        "    \"\"\"\n",
        "    Research node for leveraging a ReAct agent to process research-related tasks.\n",
        "\n",
        "    Args:\n",
        "        state (MessagesState): The current state containing the conversation history.\n",
        "\n",
        "    Returns:\n",
        "        Command: A command to update the state with the research results and route to the validator.\n",
        "    \"\"\"\n",
        "    # Create a ReAct agent specialized for research tasks\n",
        "    research_agent = create_react_agent(\n",
        "        llm,  # The language model instance used by the agent\n",
        "        tools=[tool_tavily],  # List of tools the agent can utilize\n",
        "        state_modifier=\"You are a researcher. Focus on gathering information and generating content. Do not perform any other tasks\"  # Instruction to restrict the agent's behavior\n",
        "    )\n",
        "    # Invoke the research agent with the current state to perform its task\n",
        "    result = research_agent.invoke(state)\n",
        "    print(f\"Current Node: Researcher -> Goto: Validator\")\n",
        "    # print(f\"Response:\", result)\n",
        "    # Extract the last message from the result and update the state\n",
        "    return Command(\n",
        "        update={\n",
        "            \"messages\": [  # Append the research results to the message history\n",
        "                HumanMessage(\n",
        "                    content=result[\"messages\"][-1].content,  # Content of the agent's response\n",
        "                    name=\"researcher\"  # Name of the node generating this message\n",
        "                )\n",
        "            ]\n",
        "        },\n",
        "        goto=\"validator\",  # Route back to the supervisor for further processing\n",
        "    )"
      ],
      "metadata": {
        "id": "6sBcymK-n9xM"
      },
      "execution_count": null,
      "outputs": []
    },
    {
      "cell_type": "code",
      "source": [
        "def code_node(state: MessagesState) -> Command[Literal[\"validator\"]]:\n",
        "    \"\"\"\n",
        "    Coder node for leveraging a ReAct agent to process analyzing, solving math questions, and executing code.\n",
        "\n",
        "    Args:\n",
        "        state (MessagesState): The current state containing the conversation history.\n",
        "\n",
        "    Returns:\n",
        "        Command: A command to update the state with the research results and route to the validator.\n",
        "    \"\"\"\n",
        "    # Create a specialized ReAct agent for coding and problem-solving tasks\n",
        "    code_agent = create_react_agent(\n",
        "        llm,\n",
        "        tools=[tool_code_interpreter],\n",
        "        state_modifier=(\n",
        "            \"You are a coder and analyst. Focus on mathematical caluclations, analyzing, solving math questions, \"\n",
        "            \"and executing code. Handle technical problem-solving and data tasks.\"\n",
        "        )\n",
        "    )\n",
        "\n",
        "    # Invoke the agent with the current state to process the input and perform its task\n",
        "    result = code_agent.invoke(state)\n",
        "\n",
        "    # Debug logging to trace responses and node transitions\n",
        "    print(f\"Current Node: Coder -> Goto: validator\")\n",
        "    # print(f\"Response:\", result)\n",
        "\n",
        "    # Return a command to update the state and move to the 'validator' node\n",
        "    return Command(\n",
        "        update={\n",
        "            \"messages\": [\n",
        "                # Append the last message (agent's response) to the state, tagged with \"coder\"\n",
        "                HumanMessage(content=result[\"messages\"][-1].content, name=\"coder\")\n",
        "            ]\n",
        "        },\n",
        "        # Specify the next node in the workflow: \"validator\"\n",
        "        goto=\"validator\",\n",
        "    )"
      ],
      "metadata": {
        "id": "c45w4jAcoMoo"
      },
      "execution_count": null,
      "outputs": []
    },
    {
      "cell_type": "code",
      "source": [
        "# System prompt providing clear instructions to the validator agent\n",
        "system_prompt = '''\n",
        "You are a workflow validator. Your task is to ensure the quality of the workflow. Specifically, you must:\n",
        "- Review the user's question (the first message in the workflow).\n",
        "- Review the answer (the last message in the workflow).\n",
        "- If the answer satisfactorily addresses the question, signal to end the workflow.\n",
        "- If the answer is inappropriate or incomplete, signal to route back to the supervisor for re-evaluation or further refinement.\n",
        "Ensure that the question and answer match logically and the workflow can be concluded or continued based on this evaluation.\n",
        "\n",
        "Routing Guidelines:\n",
        "1. 'supervisor' Agent: For unclear or vague state messages.\n",
        "2. Respond with 'FINISH' to end the workflow.\n",
        "'''\n",
        "\n",
        "# Define a Validator class for structured output from the LLM\n",
        "class Validator(BaseModel):\n",
        "    next: Literal[\"supervisor\", \"FINISH\"] = Field(\n",
        "        description=\"Specifies the next worker in the pipeline: 'supervisor' to continue or 'FINISH' to terminate.\"\n",
        "    )\n",
        "    reason: str = Field(\n",
        "        description=\"The reason for the decision.\"\n",
        "    )\n",
        "\n",
        "# Define the validator node function to check the user question and the answer\n",
        "def validator_node(state: MessagesState) -> Command[Literal[\"supervisor\", \"__end__\"]]:\n",
        "    \"\"\"\n",
        "    Validator node for checking if the question and the answer are appropriate.\n",
        "\n",
        "    Args:\n",
        "        state (MessagesState): The current state containing message history.\n",
        "\n",
        "    Returns:\n",
        "        Command: A command indicating whether to route back to the supervisor or end the workflow.\n",
        "    \"\"\"\n",
        "    # Extract the first (user's question) and the last (agent's response) messages\n",
        "    user_question = state[\"messages\"][0].content\n",
        "    agent_answer = state[\"messages\"][-1].content\n",
        "\n",
        "    # Prepare the message history with the system prompt\n",
        "    messages = [\n",
        "        {\"role\": \"system\", \"content\": system_prompt},\n",
        "        {\"role\": \"user\", \"content\": user_question},\n",
        "        {\"role\": \"assistant\", \"content\": agent_answer},\n",
        "    ]\n",
        "\n",
        "    # Invoke the LLM with structured output using the Validator schema\n",
        "    response = llm.with_structured_output(Validator).invoke(messages)\n",
        "\n",
        "    # Extract the 'next' routing decision and the 'reason' from the response\n",
        "    goto = response.next\n",
        "    reason = response.reason\n",
        "\n",
        "\n",
        "\n",
        "    # Determine the next node in the workflow\n",
        "    if goto == \"FINISH\" or goto == END:\n",
        "        goto = END  # Transition to the termination state\n",
        "        print(\"Transitioning to END\")  # Debug log to indicate process completion\n",
        "    else:\n",
        "        print(f\"Current Node: Validator -> Goto: Supervisor\")  # Log for routing back to supervisor\n",
        "    # Debug logging to trace responses and transitions\n",
        "    # print(f\"Response: {response}\")\n",
        "    # Return a command with the updated state and the determined routing destination\n",
        "    return Command(\n",
        "        update={\n",
        "            \"messages\": [\n",
        "                # Append the reason (validator's response) to the state, tagged with \"validator\"\n",
        "                HumanMessage(content=reason, name=\"validator\")\n",
        "            ]\n",
        "        },\n",
        "        goto=goto,  # Specify the next node in the workflow\n",
        "    )"
      ],
      "metadata": {
        "id": "oqMVyt0joTZ1"
      },
      "execution_count": null,
      "outputs": []
    },
    {
      "cell_type": "code",
      "source": [
        "# Initialize the StateGraph with MessagesState to manage the flow of messages between nodes\n",
        "builder = StateGraph(MessagesState)\n",
        "\n",
        "\n",
        "builder.add_node(\"supervisor\", supervisor_node)  # Add the supervisor node to the graph\n",
        "# Add task-specific nodes for various roles in the multi-agent system\n",
        "builder.add_node(\"enhancer\", enhancer_node)  # Node for refining and clarifying user inputs\n",
        "builder.add_node(\"researcher\", research_node)  # Node for handling research-related tasks\n",
        "builder.add_node(\"coder\", code_node)  # Node for managing coding and analytical tasks\n",
        "builder.add_node(\"validator\", validator_node)  # Node for managing coding and analytical tasks\n",
        "\n",
        "# Add edges and nodes to define the workflow of the graph\n",
        "builder.add_edge(START, \"supervisor\")  # Connect the start node to the supervisor node\n",
        "# Compile the graph to finalize its structure\n",
        "graph = builder.compile()"
      ],
      "metadata": {
        "id": "1EIR1dP0oyHO"
      },
      "execution_count": null,
      "outputs": []
    },
    {
      "cell_type": "code",
      "source": [
        "display(Image(graph.get_graph(xray=True).draw_mermaid_png())) # Display the graph's PNG representation"
      ],
      "metadata": {
        "colab": {
          "base_uri": "https://localhost:8080/",
          "height": 449
        },
        "id": "hBD9syxjpA-g",
        "outputId": "4714484f-27cb-411f-a010-8dbd9cb3cae7"
      },
      "execution_count": null,
      "outputs": [
        {
          "output_type": "display_data",
          "data": {
            "image/png": "[encoded data removed]",
            "text/plain": [
              "<IPython.core.display.Image object>"
            ]
          },
          "metadata": {}
        }
      ]
    },
    {
      "cell_type": "code",
      "source": [
        "import pprint\n",
        "\n",
        "inputs = {\n",
        "    \"messages\": [\n",
        "        (\"user\", \"wheather in chicago?\"),\n",
        "    ]\n",
        "}\n",
        "for output in graph.stream(inputs):\n",
        "    for key, value in output.items():\n",
        "        if value is None:\n",
        "            continue\n",
        "        pprint.pprint(f\"Output from node '{key}':\")\n",
        "        pprint.pprint(value, indent=2, width=80, depth=None)\n",
        "        print()"
      ],
      "metadata": {
        "colab": {
          "base_uri": "https://localhost:8080/"
        },
        "id": "iS2SkrUvpHzb",
        "outputId": "16558cc1-a0ad-484a-e842-95b2e37b31b4"
      },
      "execution_count": null,
      "outputs": [
        {
          "output_type": "stream",
          "name": "stdout",
          "text": [
            "Current Node:  Supervisor -> Goto: researcher\n",
            "\"Output from node 'supervisor':\"\n",
            "{ 'messages': [ HumanMessage(content=\"The user's question about the weather in Chicago is unclear and requires additional information gathering.\", additional_kwargs={}, response_metadata={}, name='supervisor', id='e1700cee-a4ce-4ef3-8388-f6933afbe5bd')]}\n",
            "\n",
            "Current Node: Researcher -> Goto: Validator\n",
            "\"Output from node 'researcher':\"\n",
            "{ 'messages': [ HumanMessage(content='The current weather in Chicago is overcast with a temperature of 61.2°F (16.2°C) and a wind speed of 9.8 mph (15.8 kph). The humidity is 16% and the cloud cover is 100%. The feels-like temperature is 61.2°F (16.2°C) and the windchill is 53.4°F (11.9°C). There is no precipitation at the moment.', additional_kwargs={}, response_metadata={}, name='researcher', id='be729283-55c0-41c5-bbe6-0cf128de93d6')]}\n",
            "\n",
            "Transitioning to END\n",
            "\"Output from node 'validator':\"\n",
            "{ 'messages': [ HumanMessage(content='The answer provides clear and relevant information about the current weather in Chicago.', additional_kwargs={}, response_metadata={}, name='validator', id='b6bcfd2a-e693-462f-8717-6fccf63926ef')]}\n",
            "\n"
          ]
        }
      ]
    },
    {
      "cell_type": "code",
      "source": [
        "inputs = {\n",
        "    \"messages\": [\n",
        "        (\"user\", \"what is difference between the stock price of apple in 2023 and 2021?\"),\n",
        "    ]\n",
        "}\n",
        "\n",
        "# Stream through the graph and get output\n",
        "for output in graph.stream(inputs):\n",
        "    for key, value in output.items():\n",
        "        if value is None:\n",
        "            continue\n",
        "        # Get the last message from the output\n",
        "        last_message = value.get(\"messages\", [])[-1] if \"messages\" in value else None\n",
        "        if last_message:\n",
        "            pprint.pprint(f\"Output from node '{key}':\")\n",
        "            pprint.pprint(last_message, indent=2, width=80, depth=None)\n",
        "            print()"
      ],
      "metadata": {
        "colab": {
          "base_uri": "https://localhost:8080/"
        },
        "id": "0eNw2VqPpVhj",
        "outputId": "5804e780-c5fd-434c-d851-22067c371de0"
      },
      "execution_count": null,
      "outputs": [
        {
          "output_type": "stream",
          "name": "stdout",
          "text": [
            "Current Node:  Supervisor -> Goto: researcher\n",
            "\"Output from node 'supervisor':\"\n",
            "HumanMessage(content='The question requires real-time or historical stock price data, which is not available in the initial knowledge cut-off. The researcher can provide the necessary information to calculate the difference in stock prices between 2023 and 2021.', additional_kwargs={}, response_metadata={}, name='supervisor', id='1c4a4f04-459e-4ac1-b6a3-e3473f48a86c')\n",
            "\n",
            "Current Node: Researcher -> Goto: Validator\n",
            "\"Output from node 'researcher':\"\n",
            "HumanMessage(content='The difference between the stock price of Apple in 2023 and 2021 is $49.41. The stock price in 2023 was $223.93, while the stock price in 2021 was $174.52. The stock price increased by 28.4% between 2021 and 2023.', additional_kwargs={}, response_metadata={}, name='researcher', id='26011c24-fea5-4f14-8e59-c0e915647933')\n",
            "\n",
            "Transitioning to END\n",
            "\"Output from node 'validator':\"\n",
            "HumanMessage(content=\"The answer provides a clear and accurate calculation of the difference in Apple's stock price between 2023 and 2021.\", additional_kwargs={}, response_metadata={}, name='validator', id='1d871a1d-652c-4652-bbac-40264fcc7790')\n",
            "\n"
          ]
        }
      ]
    },
    {
      "cell_type": "code",
      "source": [
        "inputs = {\n",
        "    \"messages\": [\n",
        "        (\"user\", \"Research the impact of climate change on agriculture in Southeast Asia. Based on your findings, propose potential solutions to mitigate its effects on crop production\"),\n",
        "    ]\n",
        "}\n",
        "for output in graph.stream(inputs):\n",
        "    for key, value in output.items():\n",
        "        if value is None:\n",
        "            continue\n",
        "        pprint.pprint(f\"Output from node '{key}':\")\n",
        "        pprint.pprint(value, indent=2, width=80, depth=None)\n",
        "        print()"
      ],
      "metadata": {
        "colab": {
          "base_uri": "https://localhost:8080/"
        },
        "id": "HfhwXZbaphTA",
        "outputId": "aee86f8c-509c-4846-c985-b3cbf5a0b132"
      },
      "execution_count": null,
      "outputs": [
        {
          "output_type": "stream",
          "name": "stdout",
          "text": [
            "Current Node:  Supervisor -> Goto: researcher\n",
            "\"Output from node 'supervisor':\"\n",
            "{ 'messages': [ HumanMessage(content='The question requires additional information gathering on the impact of climate change on agriculture in Southeast Asia to provide a comprehensive answer.', additional_kwargs={}, response_metadata={}, name='supervisor', id='7672b2f3-8aa5-42b8-80aa-ebcd929de743')]}\n",
            "\n",
            "Current Node: Researcher -> Goto: Validator\n",
            "\"Output from node 'researcher':\"\n",
            "{ 'messages': [ HumanMessage(content='Based on the search results, it appears that climate change is having a significant impact on agriculture in Southeast Asia, with potential damages ranging from 15.1% to 26.2% of agricultural production. The region is expected to experience increased aridity, heat waves, and erratic rainfall patterns, which can lead to reduced crop yields and changed growing seasons.\\n\\nTo mitigate the effects of climate change on crop production in Southeast Asia, potential solutions could include:\\n\\n1. Implementing climate-resilient agricultural practices, such as conservation agriculture, agroforestry, and crop diversification.\\n2. Promoting the use of climate-tolerant crop varieties and improving irrigation management to reduce water stress.\\n3. Enhancing weather forecasting and early warning systems to help farmers prepare for extreme weather events.\\n4. Supporting small-scale farmers in adopting climate-resilient practices and providing them with access to climate information and insurance.\\n5. Encouraging sustainable land use practices, such as reforestation and soil conservation, to reduce the risk of soil erosion and landslides.\\n6. Investing in agricultural research and development to improve crop yields and develop new climate-resilient crop varieties.\\n7. Implementing policies and programs to support climate change adaptation and mitigation in the agricultural sector, such as climate-smart agriculture initiatives.\\n\\nThese solutions can help reduce the risks associated with climate change and promote sustainable agricultural development in Southeast Asia.', additional_kwargs={}, response_metadata={}, name='researcher', id='1aa8ae61-735e-463b-960c-5fd727a491e6')]}\n",
            "\n",
            "Transitioning to END\n",
            "\"Output from node 'validator':\"\n",
            "{ 'messages': [ HumanMessage(content='The proposed solutions satisfactorily address the question and provide a comprehensive approach to mitigating the effects of climate change on crop production in Southeast Asia.', additional_kwargs={}, response_metadata={}, name='validator', id='43a29342-df20-4eea-8665-18b5dc4a29b8')]}\n",
            "\n"
          ]
        }
      ]
    },
    {
      "cell_type": "code",
      "source": [
        "inputs = {\n",
        "    \"messages\": [\n",
        "        (\"user\", \"Can you write the code for Fibonacci series by dynamic programming in python\"),\n",
        "    ]\n",
        "}\n",
        "for output in graph.stream(inputs):\n",
        "    for key, value in output.items():\n",
        "        if value is None:\n",
        "            continue\n",
        "        pprint.pprint(f\"Output from node '{key}':\")\n",
        "        pprint.pprint(value)\n",
        "        print()"
      ],
      "metadata": {
        "colab": {
          "base_uri": "https://localhost:8080/"
        },
        "id": "3_dtTbMwplV6",
        "outputId": "19bb6720-5b4a-4e37-ba0d-2941b03d8d25"
      },
      "execution_count": null,
      "outputs": [
        {
          "output_type": "stream",
          "name": "stdout",
          "text": [
            "Current Node:  Supervisor -> Goto: coder\n",
            "\"Output from node 'supervisor':\"\n",
            "{'messages': [HumanMessage(content='The user has requested code for the Fibonacci series using dynamic programming in Python, which requires technical expertise.', additional_kwargs={}, response_metadata={}, name='supervisor', id='11b0a63c-b203-4b72-8069-2519ab13f033')]}\n",
            "\n",
            "Current Node: Coder -> Goto: validator\n",
            "\"Output from node 'coder':\"\n",
            "{'messages': [HumanMessage(content='This Python code uses dynamic programming to calculate the nth Fibonacci number. It initializes a list `fib` of size `n + 1` with all elements as 0, except `fib[1]` which is set to 1. Then it iterates from 2 to `n` (inclusive), calculating each Fibonacci number as the sum of the two preceding ones. Finally, it returns the nth Fibonacci number. The example calculates the 10th Fibonacci number, which is 55.', additional_kwargs={}, response_metadata={}, name='coder', id='f8df3c9e-a005-451a-b7d4-09aaabde3038')]}\n",
            "\n",
            "Transitioning to END\n",
            "\"Output from node 'validator':\"\n",
            "{'messages': [HumanMessage(content='The answer satisfactorily addresses the question by providing a Python code for the Fibonacci series using dynamic programming.', additional_kwargs={}, response_metadata={}, name='validator', id='f143699c-9d14-4f22-83c3-eadee17314c5')]}\n",
            "\n"
          ]
        }
      ]
    }
  ]
}